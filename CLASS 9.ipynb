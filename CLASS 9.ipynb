{
 "cells": [
  {
   "cell_type": "code",
   "execution_count": 24,
   "id": "0e093ace-06b2-4056-8180-360463042a2c",
   "metadata": {},
   "outputs": [
    {
     "name": "stdout",
     "output_type": "stream",
     "text": [
      "Name: Tuffy,Species: Canine \n",
      "woof! woof!\n"
     ]
    }
   ],
   "source": [
    "#Create a base class `Animal` with attributes `name` and `species`, and a method `describe` to print them .Create a derived class `Dog` with an additional\n",
    "#attribute `breed` and a method `bark` to print \"Woof! Woof!\".Instantiate a `Dog` object and call its methods.\n",
    "class  Animal:\n",
    "    def __init__(self, name, species):\n",
    "        self.name=name\n",
    "        self.species=species\n",
    "    def describe(self):\n",
    "        print(f\"Name: {self.name},Species: {self.species} \")\n",
    "        \n",
    "class Dog(Animal):\n",
    "    def __init__ (self, name, species,breed):\n",
    "        super().__init__(name,species)\n",
    "        self.breed=breed\n",
    "    def bark(self):\n",
    "        print(\"woof! woof!\")\n",
    "my_dog = Dog(name =\"Tuffy\", species=\"Canine\", breed=\"Golden retriever\")\n",
    "my_dog.describe()\n",
    "my_dog.bark()  "
   ]
  },
  {
   "cell_type": "code",
   "execution_count": 9,
   "id": "317aeb1c-e2b6-44e6-b572-fbf6becf1014",
   "metadata": {},
   "outputs": [
    {
     "name": "stdout",
     "output_type": "stream",
     "text": [
      "Name:Joe Addams\n",
      "ID:ABC123\n"
     ]
    }
   ],
   "source": [
    "#Define a class `Person` with attributes `first_name` and `last_name`, and a method `print_name`. Create a derived class `Employee` with an additional\n",
    "#attribute `employee_id`. Use the `super()` method to initialize the inherited attributes. Add a method `print_employee_info\n",
    "#Instantiate an `Employee` object and call its methods.\n",
    "class Person:\n",
    "    def __init__(self,first_name,last_name) :\n",
    "        self.first_name=first_name\n",
    "        self.last_name=last_name\n",
    "    def method(self):\n",
    "        print(f\"Name:{self.first_name} {self.last_name}\")\n",
    "        \n",
    "class Employee(Person):\n",
    "    def __init__(self,first_name,last_name,employee_id):\n",
    "        super().__init__(first_name,last_name)\n",
    "        self.employee_id=employee_id\n",
    "    def method2(self):\n",
    "         print(f\"ID:{self.employee_id}\")\n",
    "Person1=Employee( first_name= \"Joe\", last_name=\"Addams\",employee_id=\"ABC123\")\n",
    "Person1.method()\n",
    "Person1.method2()"
   ]
  },
  {
   "cell_type": "code",
   "execution_count": 27,
   "id": "38404a3e-b4ae-4aba-9678-596c664bb04e",
   "metadata": {},
   "outputs": [
    {
     "name": "stdout",
     "output_type": "stream",
     "text": [
      "Area of circle:25\n",
      "Area of rectangle:12\n"
     ]
    }
   ],
   "source": [
    "# Define a class `Shape` with a method `area` returning 0. Create derived classes `Circle` and `Rectangle`, overriding the `area` method to return the\n",
    "#actual area. Instantiate objects of `Circle` and `Rectangle` and print their areas.\n",
    "class Shape:\n",
    "    def __init__(self):\n",
    "        def area(self):\n",
    "            return 0\n",
    "class Circle(Shape):\n",
    "    def __init__(self,radius):\n",
    "        self.radius=radius\n",
    "    def area(self):\n",
    "        return self.radius ** 2\n",
    "class Rectangle(Shape):\n",
    "    def __init__(self,length,breadth):\n",
    "        self.length=length\n",
    "        self.breadth=breadth\n",
    "    def area(self):\n",
    "        return self.length * self.breadth\n",
    "Circle=Circle(5)\n",
    "Rectangle=Rectangle(4,3)\n",
    "print(f\"Area of circle:{Circle.area()}\")\n",
    "print(f\"Area of rectangle:{Rectangle.area()}\")\n"
   ]
  },
  {
   "cell_type": "code",
   "execution_count": 35,
   "id": "756f34f5-f209-455c-9a52-8514dec91474",
   "metadata": {},
   "outputs": [
    {
     "name": "stdout",
     "output_type": "stream",
     "text": [
      "Can fly\n",
      "Can swim\n",
      "quack! quack!\n"
     ]
    }
   ],
   "source": [
    "#Create base classes `Flying` with a method `fly` and `Swimming` with a method `swim`. Create a derived class `Duck` inheriting from both, with an\n",
    "#additional method `quack`. Instantiate a `Duck` object and call all its methods.\n",
    "class Flying:\n",
    "        def fly(self):\n",
    "            print(\"Can fly\")\n",
    "class Swimming:\n",
    "        def swim(self):\n",
    "            print(\"Can swim\")\n",
    "class Duck(Flying,Swimming ):\n",
    "        def quack(self):\n",
    "            print(\"quack! quack!\")\n",
    "Donald=Duck()\n",
    "Donald.fly()\n",
    "Donald.swim()\n",
    "Donald.quack()\n"
   ]
  },
  {
   "cell_type": "code",
   "execution_count": 45,
   "id": "b3c51a97-0a5d-419f-ad50-cd7cf4671c34",
   "metadata": {},
   "outputs": [
    {
     "name": "stdout",
     "output_type": "stream",
     "text": [
      "method A\n",
      "method B\n",
      "method C\n",
      "method D\n",
      "method E\n"
     ]
    }
   ],
   "source": [
    "#Define class `A` with a method `method_A`, and class `E` with a method `method_E`. Create class `B` inheriting from `A` with a method `method_B`, and\n",
    "#class `C` inheriting from `A` and `E` with a method `method_C`. Define class `D` inheriting from both `B` and `C` with a method `method_D`.\n",
    "#Instantiate a `D` object and call all its methods.\n",
    "class A:\n",
    "    def method_A(self):\n",
    "        print(\"method A\")\n",
    "class E:\n",
    "    def method_E(self):\n",
    "        print(\"method E\")\n",
    "class B(A):\n",
    "    def method_B(self):\n",
    "        print(\"method B\")\n",
    "class C(A,E):\n",
    "    def method_C(self):\n",
    "        print(\"method C\")\n",
    "class D(B,C):\n",
    "    def method_D(self):\n",
    "        print(\"method D\")\n",
    "object=D()\n",
    "object.method_A()\n",
    "object.method_B()\n",
    "object.method_C()\n",
    "object.method_D()\n",
    "object.method_E()"
   ]
  },
  {
   "cell_type": "code",
   "execution_count": null,
   "id": "3a6cf2d0-5def-4911-b048-d2279eb6265f",
   "metadata": {},
   "outputs": [],
   "source": []
  }
 ],
 "metadata": {
  "kernelspec": {
   "display_name": "Python [conda env:base] *",
   "language": "python",
   "name": "conda-base-py"
  },
  "language_info": {
   "codemirror_mode": {
    "name": "ipython",
    "version": 3
   },
   "file_extension": ".py",
   "mimetype": "text/x-python",
   "name": "python",
   "nbconvert_exporter": "python",
   "pygments_lexer": "ipython3",
   "version": "3.12.7"
  }
 },
 "nbformat": 4,
 "nbformat_minor": 5
}
