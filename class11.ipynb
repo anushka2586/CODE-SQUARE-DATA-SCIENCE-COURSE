{
 "cells": [
  {
   "cell_type": "code",
   "execution_count": 13,
   "id": "9b175fbb-a19e-44b8-ba3f-e15b82beff42",
   "metadata": {},
   "outputs": [
    {
     "name": "stdout",
     "output_type": "stream",
     "text": [
      "ZeroDivisionError\n"
     ]
    }
   ],
   "source": [
    "#Write a Python program that attempts to divide a number by zero within a try block. Catch the resulting ZeroDivisionError and print a custom message.\n",
    "try:\n",
    "    print(10/0)\n",
    "except:\n",
    "    print(\"ZeroDivisionError\")"
   ]
  },
  {
   "cell_type": "code",
   "execution_count": 15,
   "id": "8e4b5283-c458-4ef9-b743-40fcc8e8038b",
   "metadata": {},
   "outputs": [
    {
     "name": "stdout",
     "output_type": "stream",
     "text": [
      "Variable is not defined\n"
     ]
    }
   ],
   "source": [
    "#Write a Python program that attempts to print an undefined variable within a try block. Catch the resulting NameError and print \"Variable is not defined\".\n",
    "try:\n",
    "    print(variable_1)\n",
    "except:\n",
    "    print(\"Variable is not defined\")"
   ]
  },
  {
   "cell_type": "code",
   "execution_count": 19,
   "id": "3d5802a2-4027-4450-b629-ad10e2b1bfc9",
   "metadata": {},
   "outputs": [
    {
     "name": "stdout",
     "output_type": "stream",
     "text": [
      "FileNotFoundError\n"
     ]
    }
   ],
   "source": [
    "#Write a Python program that attempts to open a non-existent file. Catch the resulting FileNotFoundError, print an error message, and ensure that a \n",
    "#finally block prints \"Operation finished\" regardless of the outcome.\n",
    "try:\n",
    "    f=open(\"file_1\",\"r\")\n",
    "except:\n",
    "    print(\"FileNotFoundError\")   "
   ]
  },
  {
   "cell_type": "code",
   "execution_count": 25,
   "id": "1aac3735-cb8a-4e84-a5e4-b243e84d63bd",
   "metadata": {},
   "outputs": [
    {
     "name": "stdout",
     "output_type": "stream",
     "text": [
      "the number is positive\n"
     ]
    }
   ],
   "source": [
    "#Write a Python program that uses a try block to check if a number is positive. If the number is positive, use the else block to print\n",
    "#\"The number is positive\". Catch any exceptions that occur during the check.\n",
    "num=5\n",
    "try:\n",
    "    num>=0\n",
    "except:\n",
    "    print(\"the number is not positive\")\n",
    "else:\n",
    "    print(\"the number is positive\")"
   ]
  },
  {
   "cell_type": "code",
   "execution_count": 41,
   "id": "04995ff7-ef80-44f3-9ac4-f76df0f6d0fd",
   "metadata": {},
   "outputs": [
    {
     "ename": "ValueError",
     "evalue": "age cannot be negative",
     "output_type": "error",
     "traceback": [
      "\u001b[1;31m---------------------------------------------------------------------------\u001b[0m",
      "\u001b[1;31mValueError\u001b[0m                                Traceback (most recent call last)",
      "Cell \u001b[1;32mIn[41], line 5\u001b[0m\n\u001b[0;32m      3\u001b[0m age\u001b[38;5;241m=\u001b[39m\u001b[38;5;241m-\u001b[39m\u001b[38;5;241m23\u001b[39m\n\u001b[0;32m      4\u001b[0m \u001b[38;5;28;01mif\u001b[39;00m \u001b[38;5;129;01mnot\u001b[39;00m age \u001b[38;5;241m>\u001b[39m \u001b[38;5;241m0\u001b[39m:\n\u001b[1;32m----> 5\u001b[0m     \u001b[38;5;28;01mraise\u001b[39;00m \u001b[38;5;167;01mValueError\u001b[39;00m(\u001b[38;5;124m\"\u001b[39m\u001b[38;5;124mage cannot be negative\u001b[39m\u001b[38;5;124m\"\u001b[39m)\n",
      "\u001b[1;31mValueError\u001b[0m: age cannot be negative"
     ]
    }
   ],
   "source": [
    "#Write a Python program that raises a ValueError if a variable age is set to a negative number. Include a custom error message that states \n",
    "#\"Age cannot be negative\".\n",
    "age=-23\n",
    "if not age > 0:\n",
    "    raise ValueError(\"age cannot be negative\")"
   ]
  },
  {
   "cell_type": "code",
   "execution_count": null,
   "id": "d2e056e4-e0a8-410d-9b8b-45bae1469462",
   "metadata": {},
   "outputs": [],
   "source": []
  }
 ],
 "metadata": {
  "kernelspec": {
   "display_name": "Python [conda env:base] *",
   "language": "python",
   "name": "conda-base-py"
  },
  "language_info": {
   "codemirror_mode": {
    "name": "ipython",
    "version": 3
   },
   "file_extension": ".py",
   "mimetype": "text/x-python",
   "name": "python",
   "nbconvert_exporter": "python",
   "pygments_lexer": "ipython3",
   "version": "3.12.7"
  }
 },
 "nbformat": 4,
 "nbformat_minor": 5
}
