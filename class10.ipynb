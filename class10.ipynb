{
 "cells": [
  {
   "cell_type": "code",
   "execution_count": 14,
   "id": "fb4da812-04da-46b7-97af-8a6e23995f35",
   "metadata": {},
   "outputs": [
    {
     "name": "stdout",
     "output_type": "stream",
     "text": [
      "2025-08-26 18:26:39.069052\n",
      "2022-07-04 00:00:00\n",
      "December\n"
     ]
    }
   ],
   "source": [
    "#Date Module Operations: 1. Display the current date and time  2. Create a date object for `July 4, 2022`, and print it.\n",
    "#3. Extract and display the name of the month from the date object `December 15, 2021`.\n",
    "import datetime\n",
    "present=datetime.datetime.now()\n",
    "print(present)\n",
    "obj1=datetime.datetime(2022,7,4)\n",
    "print(obj1)\n",
    "obj2=datetime.datetime(2021,12,15)\n",
    "print(obj2.strftime(\"%B\"))"
   ]
  },
  {
   "cell_type": "code",
   "execution_count": 30,
   "id": "28bfe93a-f302-473b-a848-4cf5a8a1a732",
   "metadata": {},
   "outputs": [
    {
     "name": "stdout",
     "output_type": "stream",
     "text": [
      "9.0\n",
      "9\n",
      "8\n",
      "32.0\n",
      "3.141592653589793\n"
     ]
    }
   ],
   "source": [
    "# Mathematical Calculations with `math` Module 1. Compute and print the square root of `81`.2. Find and display the ceiling and floor values of `8.3`.\n",
    "#3. Calculate and print `2` raised to the power of `5`.4. Print the value of π (pi) from the `math` module.\n",
    "import math\n",
    "a=math.sqrt(81)\n",
    "print(a)\n",
    "b=math.ceil(8.3)\n",
    "c=math.floor(8.3)\n",
    "print(b)\n",
    "print(c)\n",
    "d=math.pow(2,5)\n",
    "print(d)\n",
    "e=math.pi\n",
    "print(e)"
   ]
  },
  {
   "cell_type": "code",
   "execution_count": 40,
   "id": "fbd528fd-e6c4-463e-84e4-a3482992977a",
   "metadata": {},
   "outputs": [
    {
     "name": "stdout",
     "output_type": "stream",
     "text": [
      "6\n",
      "3\n",
      "2\n"
     ]
    }
   ],
   "source": [
    " #Using the `len()` function on a string (`\"Python\"`), a tuple (`(1, 2, 3)`), and a dictionary (`{\"name\": \"John\", \"age\": 30}`) and print their lengths.\n",
    "#Define three classes: `Dog`, `Cat`, and `Bird`. Each class should have a `speak` method that prints a unique sound. Create an instance of each class \n",
    "#and use a loop to call their `speak` methods.\n",
    "str =(\"Python\")\n",
    "tuple= (1, 2, 3)\n",
    "dict= {\"name\": \"John\", \"age\": 30}\n",
    "print(len(str))\n",
    "print(len(tuple))\n",
    "print(len(dict))\n"
   ]
  },
  {
   "cell_type": "code",
   "execution_count": 90,
   "id": "6c5cbc38-8361-4a68-8c0f-8e153969ad37",
   "metadata": {},
   "outputs": [
    {
     "name": "stdout",
     "output_type": "stream",
     "text": [
      "First line \n",
      "\n",
      "11\n",
      "First line \n",
      "Second line\n"
     ]
    }
   ],
   "source": [
    "#Create a file named `notes.txt` and write `\"First Line\"` into it. 2. Open `notes.txt` and read its contents. Print the content to the console.\n",
    "#3. Append `\"Second Line\"` to `notes.txt`.4. Open and read the updated contents of `notes.txt`, and print the results.\n",
    "f = open(\"notes.txt\", \"w\")\n",
    "f.write(\"First line \\n\")\n",
    "f.close()\n",
    "with open(\"notes.txt\", \"r\") as f:\n",
    "    print(f.read())\n",
    "with open(\"notes.txt\", \"a\") as f:\n",
    "    print(f.write(\"Second line\"))\n",
    "with open(\"notes.txt\", \"r\") as f:\n",
    "    print(f.read())"
   ]
  },
  {
   "cell_type": "code",
   "execution_count": 92,
   "id": "5e50d168-1a58-434c-b12a-9aa8b965c442",
   "metadata": {},
   "outputs": [
    {
     "name": "stdout",
     "output_type": "stream",
     "text": [
      "File does not exist.\n"
     ]
    }
   ],
   "source": [
    "#1. Check if a file named `os.path.exists` exists in the current directory. If it does, delete the file and print `\"File deleted.\"`.\n",
    "#2. If `testfile.txt` does not exist, print `\"File does not exist.\"`.\n",
    "import os\n",
    "if os.path.exists(\"os.path.exists\"):\n",
    "    os.remove(\"os.path.exists\")\n",
    "else:\n",
    "    print(\"File does not exist.\")\n",
    "    "
   ]
  }
 ],
 "metadata": {
  "kernelspec": {
   "display_name": "Python [conda env:base] *",
   "language": "python",
   "name": "conda-base-py"
  },
  "language_info": {
   "codemirror_mode": {
    "name": "ipython",
    "version": 3
   },
   "file_extension": ".py",
   "mimetype": "text/x-python",
   "name": "python",
   "nbconvert_exporter": "python",
   "pygments_lexer": "ipython3",
   "version": "3.12.7"
  }
 },
 "nbformat": 4,
 "nbformat_minor": 5
}
