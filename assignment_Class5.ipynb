{
 "cells": [
  {
   "cell_type": "code",
   "execution_count": 6,
   "id": "3d976e06-4c10-44cb-9142-55620751f1b7",
   "metadata": {},
   "outputs": [
    {
     "name": "stdout",
     "output_type": "stream",
     "text": [
      "b is greater than a\n"
     ]
    }
   ],
   "source": [
    "#Write an if statement to compare two variables, a and b. If b is greater than a, print a message saying \"b is greater than a\".\n",
    "a=200\n",
    "b=900\n",
    "if(a<b):\n",
    "    print(\"b is greater than a\")"
   ]
  },
  {
   "cell_type": "code",
   "execution_count": 16,
   "id": "9c0324ec-eb8d-42e3-939d-ac6f9845ecbd",
   "metadata": {},
   "outputs": [
    {
     "name": "stdout",
     "output_type": "stream",
     "text": [
      "b is greater than a\n"
     ]
    }
   ],
   "source": [
    "#Write an if-else statement to compare two variables, a and b. If b is greater than a, print \"b is greater than a\". Otherwise,print \"a and b are equal\"\n",
    "if(b>a):\n",
    "    print(\"b is greater than a\")\n",
    "else:\n",
    "    print(\"a and b are equal\")\n"
   ]
  },
  {
   "cell_type": "code",
   "execution_count": 14,
   "id": "f04d8fcf-08ce-46f2-b99f-06449ae2527d",
   "metadata": {},
   "outputs": [
    {
     "name": "stdout",
     "output_type": "stream",
     "text": [
      "b is greater than a\n"
     ]
    }
   ],
   "source": [
    "\n",
    "#Write an if-elif-else statement to compare two variables, a and b. If b is greater than a, print \"b is greater than a\".\n",
    "#If a and b are equal, print \"a and b are equal\". Otherwise, print \"a is greater than b\".\n",
    "if(b>a):\n",
    "    print(\"b is greater than a\")\n",
    "elif(a ==b):\n",
    "    print(\"a and b are equal\")\n",
    "else:\n",
    "    print(\"a is greater than b\")"
   ]
  },
  {
   "cell_type": "code",
   "execution_count": 26,
   "id": "6e2647a5-dc19-4fa4-9919-8332ae482a91",
   "metadata": {},
   "outputs": [
    {
     "name": "stdout",
     "output_type": "stream",
     "text": [
      "banana\n"
     ]
    }
   ],
   "source": [
    "#Create a tuple with the elements (\"apple\", \"banana\", \"cherry\"). Access and print the second element of the tuple.\n",
    "tuple = (\"apple\", \"banana\", \"cherry\")\n",
    "print(tuple[1])"
   ]
  },
  {
   "cell_type": "code",
   "execution_count": 28,
   "id": "e0cc0a5f-f4e8-4eb6-9cb5-a6e8db03130e",
   "metadata": {},
   "outputs": [
    {
     "name": "stdout",
     "output_type": "stream",
     "text": [
      "<class 'tuple'>\n"
     ]
    }
   ],
   "source": [
    "#Create a tuple with a single item \"apple\". Print the type of the tuple to confirm it's a tuple.\n",
    "tuple_1 = (\"apple\",)\n",
    "print(type(tuple_1))\n"
   ]
  },
  {
   "cell_type": "code",
   "execution_count": 38,
   "id": "ecd4c88e-8430-44d5-a076-87a7a89cc3d1",
   "metadata": {},
   "outputs": [
    {
     "name": "stdout",
     "output_type": "stream",
     "text": [
      "the item 'apple' exists in the tuple\n"
     ]
    }
   ],
   "source": [
    "#Create a tuple with the elements (\"apple\", \"banana\", \"cherry\"). Check if the item \"apple\" exists in the tuple and print the result.\n",
    "my_tuple = (\"apple\", \"banana\", \"cherry\")\n",
    "if(\"apple\" in my_tuple):\n",
    "    print(\"the item 'apple' exists in the tuple\")\n",
    "else:\n",
    "    print(\"the item 'apple' does not exist in the tuple\")"
   ]
  },
  {
   "cell_type": "code",
   "execution_count": 49,
   "id": "250fa7db-5929-46f9-af90-bf090a45f9ed",
   "metadata": {},
   "outputs": [
    {
     "name": "stdout",
     "output_type": "stream",
     "text": [
      "['apple', 'kiwi', 'cherry']\n"
     ]
    }
   ],
   "source": [
    "# Convert a tuple (\"apple\", \"banana\", \"cherry\") to a list. Change the second item to \"kiwi\" and convert it back to a tuple. Print the modified tuple.\n",
    "list_1 = list(my_tuple)\n",
    "list_1[1]=\"kiwi\"\n",
    "print(list_1)"
   ]
  },
  {
   "cell_type": "code",
   "execution_count": 51,
   "id": "89c0d599-e4c1-4811-b86e-5ebceda1470c",
   "metadata": {},
   "outputs": [
    {
     "name": "stdout",
     "output_type": "stream",
     "text": [
      "{'cherry', 'apple', 'orange'}\n"
     ]
    }
   ],
   "source": [
    "#Create a set with the elements {\"apple\", \"banana\", \"cherry\"}. Add \"orange\" to the set and remove \"banana\". Print the modified set.\n",
    "set1={\"apple\", \"banana\", \"cherry\"}\n",
    "set1.add(\"orange\")\n",
    "set1.remove(\"banana\")\n",
    "print(set1)"
   ]
  },
  {
   "cell_type": "code",
   "execution_count": 53,
   "id": "e94efa46-6bfa-4c2b-9462-10c98d0744ec",
   "metadata": {},
   "outputs": [
    {
     "name": "stdout",
     "output_type": "stream",
     "text": [
      "apple\n",
      "banana\n",
      "cherry\n"
     ]
    }
   ],
   "source": [
    "#Create a tuple with the elements (\"apple\", \"banana\", \"cherry\"). Use a for loop to print each item in the tuple.\n",
    "tuple1 = (\"apple\", \"banana\", \"cherry\")\n",
    "for i in tuple1:\n",
    "    print(i)"
   ]
  },
  {
   "cell_type": "code",
   "execution_count": 66,
   "id": "0872de43-113a-4f10-90f1-c6b4ac07f6ea",
   "metadata": {},
   "outputs": [
    {
     "name": "stdout",
     "output_type": "stream",
     "text": [
      "{'papaya', 'apple', 'banana', 'cherry', 'pineapple', 'mango'}\n"
     ]
    }
   ],
   "source": [
    "#Create a set with the elements {\"apple\", \"banana\", \"cherry\"}.Update it with another set {\"pineapple\", \"mango\", \"papaya\"} and a list[\"kiwi\", \"orange\"].\n",
    "set_1={\"apple\", \"banana\", \"cherry\"}\n",
    "set_2={\"pineapple\", \"mango\", \"papaya\"}\n",
    "(set_1.update(set_2))\n",
    "print(set_1)"
   ]
  },
  {
   "cell_type": "code",
   "execution_count": null,
   "id": "7b99935a-7b49-4280-9b70-3788bea49c8a",
   "metadata": {},
   "outputs": [],
   "source": []
  },
  {
   "cell_type": "code",
   "execution_count": null,
   "id": "1b7c38b6-441c-4bc5-b60d-13666943f0bb",
   "metadata": {},
   "outputs": [],
   "source": []
  }
 ],
 "metadata": {
  "kernelspec": {
   "display_name": "Python [conda env:base] *",
   "language": "python",
   "name": "conda-base-py"
  },
  "language_info": {
   "codemirror_mode": {
    "name": "ipython",
    "version": 3
   },
   "file_extension": ".py",
   "mimetype": "text/x-python",
   "name": "python",
   "nbconvert_exporter": "python",
   "pygments_lexer": "ipython3",
   "version": "3.12.7"
  }
 },
 "nbformat": 4,
 "nbformat_minor": 5
}
