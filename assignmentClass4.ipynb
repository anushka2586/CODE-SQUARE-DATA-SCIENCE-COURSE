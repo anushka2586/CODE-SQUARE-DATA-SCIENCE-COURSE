{
 "cells": [
  {
   "cell_type": "code",
   "execution_count": 12,
   "id": "24ed4612-c602-47e3-a3bb-d8c8d68da3f8",
   "metadata": {},
   "outputs": [],
   "source": [
    "a = 25\n",
    "b = 5"
   ]
  },
  {
   "cell_type": "code",
   "execution_count": 14,
   "id": "7441d9cf-2ffb-41aa-b2fa-467ff75c3c0d",
   "metadata": {},
   "outputs": [
    {
     "name": "stdout",
     "output_type": "stream",
     "text": [
      "arithmetic operations:\n",
      "1. Addition : 30\n",
      "2. Subtraction : 20\n",
      "3. Multiplication : 125\n",
      "4. Division : 5.0\n",
      "5. Modulus: 0\n",
      "6. Exponentital : 9765625\n",
      "7. Floor Division : 5\n"
     ]
    }
   ],
   "source": [
    "# demonstrate the use of the following arithmetic operators in Python on any numbers:\n",
    "# Addition, Subtraction, Multiplication, Division, Modulus, Exponentiation, Floor Division.\n",
    "print(\"arithmetic operations:\")\n",
    "print(f\"1. Addition : {a + b}\")\n",
    "print(f\"2. Subtraction : {a - b}\")\n",
    "print(f\"3. Multiplication : {a*b}\")\n",
    "print(f\"4. Division : {a/b}\")\n",
    "print(f\"5. Modulus: {a%b}\")\n",
    "print(f\"6. Exponentital : {a**b}\")\n",
    "print(f\"7. Floor Division : {a//b}\")"
   ]
  },
  {
   "cell_type": "code",
   "execution_count": 18,
   "id": "86f1c14e-3b8d-4932-adfa-3cd0d2957b4b",
   "metadata": {},
   "outputs": [
    {
     "name": "stdout",
     "output_type": "stream",
     "text": [
      "Relational operations:\n",
      "True\n",
      "False\n",
      "False\n",
      "True\n"
     ]
    }
   ],
   "source": [
    "# Write Python expressions using comparison operators (less than, greater than, equal to, not equal to) and evaluate them.\n",
    "print(\"Relational operations:\")\n",
    "print(f\"{a > b}\")\n",
    "print(f\"{a < b}\")\n",
    "print(f\"{a == b}\")\n",
    "print(f\"{a != b}\")"
   ]
  },
  {
   "cell_type": "code",
   "execution_count": 45,
   "id": "8d54dcc2-95ba-4cbf-a3aa-97a521fbe147",
   "metadata": {},
   "outputs": [
    {
     "name": "stdout",
     "output_type": "stream",
     "text": [
      " Python is present in string\n"
     ]
    }
   ],
   "source": [
    "# Create a string variable and use the ' in ' and ' not in ' keywords to check for the presence or absence of a substring within the string\n",
    "text = \" Python Is Powerfull language\"\n",
    "if(\"Python\" in text):\n",
    "    print(\" Python is present in string\")\n",
    "elif(\"Python\" not in text):\n",
    "    print(\"Python is absent in string\")"
   ]
  },
  {
   "cell_type": "code",
   "execution_count": 26,
   "id": "5c708443-b142-4d73-9b4e-47d4b6efd505",
   "metadata": {},
   "outputs": [
    {
     "name": "stdout",
     "output_type": "stream",
     "text": [
      "python\n",
      "java\n",
      "C++\n"
     ]
    }
   ],
   "source": [
    " # Define a list with at least three elements. Use a for loop to print each element of the list.\n",
    "List = [\"python\",\"java\",\"C++\"]\n",
    "for i in List:\n",
    "    print(i)"
   ]
  },
  {
   "cell_type": "code",
   "execution_count": 43,
   "id": "8d5a83d6-3543-4c2e-a36b-573b8357ecb7",
   "metadata": {},
   "outputs": [
    {
     "name": "stdout",
     "output_type": "stream",
     "text": [
      "10\n",
      "9\n",
      "8\n",
      "7\n",
      "6\n",
      "5\n",
      "4\n",
      "3\n",
      "2\n",
      "1\n"
     ]
    }
   ],
   "source": [
    "# Use the range() function to print numbers from 10 to 1 using a for loop.\n",
    "for x in range(10,0,-1):\n",
    "    print(x)"
   ]
  },
  {
   "cell_type": "code",
   "execution_count": 120,
   "id": "da2a311c-6bb7-4e91-90b1-090ee2dabd13",
   "metadata": {},
   "outputs": [
    {
     "name": "stdout",
     "output_type": "stream",
     "text": [
      "Hello\n",
      "W\n",
      "HELLO WORLD\n",
      "hello world\n",
      "ello World\n",
      "Hello Friend\n",
      "['Hello', 'World']\n"
     ]
    }
   ],
   "source": [
    "# Create a string variable and demonstrate the following string methods: \n",
    "# slicing, negative indexing, converting to uppercase converting to lowercase, stripping , replacing a substring, and splitting the string.\n",
    "string = \"Hello World\"\n",
    "slicing = string[0:5]\n",
    "print(slicing)\n",
    "negative_indexing = string[-5]\n",
    "print(negative_indexing)\n",
    "upper_case =string.upper()\n",
    "print(upper_case)\n",
    "lower_case = string.lower()\n",
    "print(lower_case)\n",
    "stripping = string.strip(\"H\")\n",
    "print(stripping)\n",
    "replace = string.replace(\"World\" , \"Friend\")\n",
    "print(replace)\n",
    "splitting= string.split()\n",
    "print(splitting)"
   ]
  },
  {
   "cell_type": "code",
   "execution_count": 122,
   "id": "79bf326e-b98f-4add-b2b7-0327cd1b83eb",
   "metadata": {},
   "outputs": [
    {
     "name": "stdout",
     "output_type": "stream",
     "text": [
      "[1, [2, 5.6, False], 'a', 'b', True]\n"
     ]
    }
   ],
   "source": [
    "# Create a list inside list with at least five elements of different data types. Print the list.\n",
    "my_list =[1,[2,5.6,False],\"a\",\"b\",True]\n",
    "print(my_list)"
   ]
  },
  {
   "cell_type": "code",
   "execution_count": 126,
   "id": "1c4c0709-34c8-4806-92f8-f612a519dd91",
   "metadata": {},
   "outputs": [
    {
     "name": "stdout",
     "output_type": "stream",
     "text": [
      "[1, [2, 5.6, False]]\n",
      "['a', 'b']\n"
     ]
    }
   ],
   "source": [
    "# Access and print same item from the list using both positive and negative indexing.\n",
    "positive_idx = my_list[0:2]\n",
    "print(positive_idx)\n",
    "negative_idx = my_list[-3:-1]\n",
    "print(negative_idx)"
   ]
  },
  {
   "cell_type": "code",
   "execution_count": 164,
   "id": "11a91cd5-fe7e-461e-902b-0588228c1335",
   "metadata": {},
   "outputs": [
    {
     "name": "stdout",
     "output_type": "stream",
     "text": [
      "[1, [2, 5.6, False], 'a', 'b', True, 'python']\n",
      "[1, [2, 5.6, False], 'apple', 'a', 'b', True, 'python']\n",
      "[[2, 5.6, False], 'apple', 'a', 'b', True, 'python']\n",
      "[[2, 5.6, False], 'apple', 'a', True, 'python']\n",
      "['a', True, 'python']\n"
     ]
    }
   ],
   "source": [
    "# Modify elements of a list by using the append(), insert(), remove(), pop(), and del methods. Print the list after each operations\n",
    "my_list =[1,[2,5.6,False],\"a\",\"b\",True]\n",
    "my_list.append(\"python\")\n",
    "print(my_list)\n",
    "my_list.insert(2,\"apple\")\n",
    "print(my_list)\n",
    "my_list.remove(True)\n",
    "print(my_list)\n",
    "my_list.pop(3)\n",
    "print(my_list)\n",
    "del my_list[0:2]\n",
    "print(my_list)\n"
   ]
  },
  {
   "cell_type": "code",
   "execution_count": 172,
   "id": "4096a231-a4a7-4aa0-bcab-edda4b5b2fc7",
   "metadata": {},
   "outputs": [
    {
     "name": "stdout",
     "output_type": "stream",
     "text": [
      "[1, 2, 3, 4, 'power', True, 'one', 'two', 'Three', 'Data', False]\n"
     ]
    }
   ],
   "source": [
    "# Join two lists and print the all item using for loop and also check is \"data\" present in list using \"if else\" statement.\n",
    "list_1 = [ 1,2,3,4,\"power\", True] \n",
    "list_2= [\"one\", \"two\",\"Three\", \"Data\", False]\n",
    "final_list = list_1 + list_2\n",
    "if(\"Data\" in list_2):\n",
    "    print(final_list)\n",
    "else:\n",
    "    print(\"lists can not be joined\")\n",
    "\n"
   ]
  },
  {
   "cell_type": "code",
   "execution_count": null,
   "id": "d2b29c3b-0d9d-40aa-965d-11b68863476d",
   "metadata": {},
   "outputs": [],
   "source": []
  }
 ],
 "metadata": {
  "kernelspec": {
   "display_name": "Python [conda env:base] *",
   "language": "python",
   "name": "conda-base-py"
  },
  "language_info": {
   "codemirror_mode": {
    "name": "ipython",
    "version": 3
   },
   "file_extension": ".py",
   "mimetype": "text/x-python",
   "name": "python",
   "nbconvert_exporter": "python",
   "pygments_lexer": "ipython3",
   "version": "3.12.7"
  }
 },
 "nbformat": 4,
 "nbformat_minor": 5
}
