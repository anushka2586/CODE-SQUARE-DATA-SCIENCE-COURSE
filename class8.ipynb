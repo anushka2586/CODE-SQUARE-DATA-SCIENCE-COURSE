{
 "cells": [
  {
   "cell_type": "code",
   "execution_count": 12,
   "id": "9110d9d0-089a-487d-81ae-64f05c708b2a",
   "metadata": {},
   "outputs": [
    {
     "name": "stdout",
     "output_type": "stream",
     "text": [
      "64\n"
     ]
    }
   ],
   "source": [
    "#Write a lambda function to calculate the square of a number. Use it to print the square of 8.\n",
    "square = lambda num : num**2\n",
    "print(square(8))"
   ]
  },
  {
   "cell_type": "code",
   "execution_count": 18,
   "id": "b90bcc0e-5a9b-478e-941d-ca8152777a7d",
   "metadata": {},
   "outputs": [
    {
     "name": "stdout",
     "output_type": "stream",
     "text": [
      "60\n"
     ]
    }
   ],
   "source": [
    "#Create a lambda function to multiply three arguments. Use it to multiply 3, 4, and 5, then print the result.\n",
    "multiply = lambda a, b, c : a * b * c\n",
    "print(multiply(3,4,5))"
   ]
  },
  {
   "cell_type": "code",
   "execution_count": 22,
   "id": "3b81bd88-874d-4772-88a3-b95a0fc7dfca",
   "metadata": {},
   "outputs": [
    {
     "name": "stdout",
     "output_type": "stream",
     "text": [
      "20\n"
     ]
    }
   ],
   "source": [
    "#Write a lambda function to find the maximum of two numbers. Use it to find the maximum between 10 and 20 and print the result\n",
    "maximum = lambda a,b : max(a,b)\n",
    "print(maximum(10,20))"
   ]
  },
  {
   "cell_type": "code",
   "execution_count": 5,
   "id": "b6b532b6-731c-468b-9050-247811aa0628",
   "metadata": {},
   "outputs": [
    {
     "name": "stdout",
     "output_type": "stream",
     "text": [
      "[1, 3, 5, 7, 9]\n"
     ]
    }
   ],
   "source": [
    "#Create a list of integers and use a lambda function with the filter method to filter out even numbers. Print the resulting list.\n",
    "integers = [1,2,3,4,5,6,7,8,9,10]\n",
    "odd_num = list(filter(lambda x : x % 2 != 0,integers))\n",
    "print(odd_num)\n",
    "               "
   ]
  },
  {
   "cell_type": "code",
   "execution_count": 9,
   "id": "4d23e977-c0d4-4f77-8cd4-9b7e424744fe",
   "metadata": {},
   "outputs": [
    {
     "name": "stdout",
     "output_type": "stream",
     "text": [
      "Dog\n",
      "Buddy\n"
     ]
    }
   ],
   "source": [
    "#Create a class named Animal with an __init__ method that initializes species and name.\n",
    "#Instantiate an object of this class with species \"Dog\" and name \"Buddy\", then print the species and name.\n",
    "class Animals:\n",
    "    def __init__ (self, species, name):\n",
    "        self.species = species\n",
    "        self.name = name\n",
    "\n",
    "Animal1 = Animals(\"Dog\",\"Buddy\")\n",
    "print(Animal1.species)\n",
    "print(Animal1.name)"
   ]
  },
  {
   "cell_type": "code",
   "execution_count": 23,
   "id": "a84859dc-3bb4-4581-b323-625dc6747a29",
   "metadata": {},
   "outputs": [
    {
     "name": "stdout",
     "output_type": "stream",
     "text": [
      "Toyota,Innova Hycross,2025\n",
      "None\n"
     ]
    }
   ],
   "source": [
    "#Create a class named Car with attributes for brand, model, and year. Add a method car_info that prints a formatted string with this information.\n",
    "#Create an instance of the Car class and call the car_info method.\n",
    "class Car:\n",
    "    def __init__(self,brand,model,year):\n",
    "        self.brand = brand\n",
    "        self. model = model\n",
    "        self.year = year\n",
    "    def car_info(self):\n",
    "        print(f\"{self.brand},{self.model},{self.year}\")\n",
    "\n",
    "Car1 = Car(\"Toyota\", \"Innova Hycross\",2025)\n",
    "print(Car1.car_info())"
   ]
  },
  {
   "cell_type": "code",
   "execution_count": 29,
   "id": "a2b6cec5-7e23-4673-aec5-99801039757f",
   "metadata": {},
   "outputs": [
    {
     "name": "stdout",
     "output_type": "stream",
     "text": [
      "Hello Alice\n",
      "None\n"
     ]
    }
   ],
   "source": [
    "#Create a class named Person with an __init__ method and a method introduce that prints a greeting including the person's name.\n",
    "#Instantiate an object with the name \"Alice\" and call the introduce method.\n",
    "class Person:\n",
    "    def __init__(self,name):\n",
    "        self.name = name\n",
    "    def greeting(self):\n",
    "        print(f\"Hello {self.name}\")\n",
    "\n",
    "Person1 = Person(\"Alice\")\n",
    "print(Person1.greeting())"
   ]
  },
  {
   "cell_type": "code",
   "execution_count": 24,
   "id": "c8ea6668-6e8a-43eb-8b41-bfaf3160c38b",
   "metadata": {},
   "outputs": [
    {
     "name": "stdout",
     "output_type": "stream",
     "text": [
      "Alex's average is 90.33333333333333\n"
     ]
    }
   ],
   "source": [
    "#Create a class named Student with attributes for name and grades (a list of grades). Add a method average_grade that returns the average of the grades.\n",
    "#Create an instance of the Student class, add some grades, and print the average grade.\n",
    "class Student:\n",
    "    def __init__(self,name):\n",
    "        self.name=name\n",
    "        self.grades=[]\n",
    "        \n",
    "    def add_grade(self, grade):\n",
    "        self.grades.append(grade)\n",
    "        \n",
    "    def average(self):\n",
    "        if not self.grades:\n",
    "            return 0\n",
    "        return(sum(self.grades))/(len(self.grades))\n",
    "Student1 = Student(\"Alex\")\n",
    "Student1.add_grade(97)\n",
    "Student1.add_grade(89)\n",
    "Student1.add_grade(85)\n",
    "print(f\"{Student1.name}'s average is {Student1.average()}\")\n",
    "\n"
   ]
  },
  {
   "cell_type": "code",
   "execution_count": 60,
   "id": "9deddb90-0ad7-4d2d-8083-3f6cfaea9b53",
   "metadata": {},
   "outputs": [
    {
     "name": "stdout",
     "output_type": "stream",
     "text": [
      "The Great Gatsby was written 100 years ago\n"
     ]
    }
   ],
   "source": [
    "#Create a class named Book with attributes for title, author, and year_published. Add a method book_age that calculates how old the book is from the\n",
    "#current year.Create an instance of the Book class and print the age of the book.\n",
    "class Book:\n",
    "    def __init__(self,title,author,year_established,current_year):\n",
    "        self.title = title\n",
    "        self.author = author\n",
    "        self.year_established =year_established \n",
    "        self.current_year=current_year\n",
    "    def book_age(self):\n",
    "        return self.current_year-self.year_established\n",
    "Book1=Book(\"The Great Gatsby\",\"F. Scott Fitzgerald\",1925,2025)\n",
    "print(f\"{Book1.title} was written {Book1.book_age()} years ago\")"
   ]
  },
  {
   "cell_type": "code",
   "execution_count": 24,
   "id": "1c509e9c-65bd-440a-bd3e-ebb3f20c65e9",
   "metadata": {},
   "outputs": [
    {
     "name": "stdout",
     "output_type": "stream",
     "text": [
      "Alex's final balance is 37000\n"
     ]
    }
   ],
   "source": [
    "#Write a BankAccount class with attributes for owner and balance. Add methods for deposit and withdraw. \n",
    "#Create an instance and perform some deposits and withdrawals, then print the final balance.\n",
    "class BankAccount:\n",
    "    def __init__(self,owner,balance):\n",
    "        self.owner=owner\n",
    "        self.balance=balance\n",
    "    def deposit(self,amount):\n",
    "        self.amount = amount\n",
    "        self.balance += self.amount\n",
    "        return self.balance\n",
    "    def withdraw(self,amount):\n",
    "        self.amount = amount\n",
    "        self.balance -=self.amount\n",
    "        return self.balance\n",
    "    def final_balance(self):\n",
    "        return self.balance \n",
    "Account1= BankAccount(\"Alex\",35000)\n",
    "Account1.deposit(5000)\n",
    "Account1.withdraw(3000)\n",
    "print(f\"{Account1.owner}'s final balance is {Account1.final_balance()}\")"
   ]
  },
  {
   "cell_type": "code",
   "execution_count": null,
   "id": "747362fe-4cd0-4f51-a6e3-785b81e8e59a",
   "metadata": {},
   "outputs": [],
   "source": [
    "#Create a Calculator class with methods for addition, subtraction, multiplication, and division. Use this class to perform a \n",
    "#series of calculations and print the results.\n",
    "class Calculator:\n",
    "    def __init__(self,addition, subtraction, multiplication, division):\n",
    "        self.addition = addition\n",
    "        self.subtraction = subtraction\n",
    "        self.multiplication = multiplication\n",
    "        self.division=division\n",
    "        "
   ]
  }
 ],
 "metadata": {
  "kernelspec": {
   "display_name": "Python [conda env:base] *",
   "language": "python",
   "name": "conda-base-py"
  },
  "language_info": {
   "codemirror_mode": {
    "name": "ipython",
    "version": 3
   },
   "file_extension": ".py",
   "mimetype": "text/x-python",
   "name": "python",
   "nbconvert_exporter": "python",
   "pygments_lexer": "ipython3",
   "version": "3.12.7"
  }
 },
 "nbformat": 4,
 "nbformat_minor": 5
}
